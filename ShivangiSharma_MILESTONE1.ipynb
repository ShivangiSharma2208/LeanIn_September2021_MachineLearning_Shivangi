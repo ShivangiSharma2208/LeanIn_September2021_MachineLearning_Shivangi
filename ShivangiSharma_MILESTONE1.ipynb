{
 "cells": [
  {
   "cell_type": "markdown",
   "id": "e9338d67",
   "metadata": {},
   "source": [
    "## Question 1"
   ]
  },
  {
   "cell_type": "code",
   "execution_count": 5,
   "id": "96f605dc",
   "metadata": {},
   "outputs": [
    {
     "name": "stdout",
     "output_type": "stream",
     "text": [
      "153\n",
      "370\n",
      "371\n",
      "407\n",
      "END\n"
     ]
    }
   ],
   "source": [
    "def arm_num(num):\n",
    "    sum=0\n",
    "    i=num\n",
    "    while i>0:\n",
    "        dig=i%10\n",
    "        x=dig*dig*dig\n",
    "        sum+=x\n",
    "        i=i//10\n",
    "    return sum\n",
    "    \n",
    "   \n",
    "for num in range(2,500):\n",
    "    sm=arm_num(num)\n",
    "    if sm==num:\n",
    "        print(num)\n",
    "print(\"END\")"
   ]
  },
  {
   "cell_type": "markdown",
   "id": "79ed3db7",
   "metadata": {},
   "source": [
    "## Question 2"
   ]
  },
  {
   "cell_type": "code",
   "execution_count": 36,
   "id": "2221259a",
   "metadata": {},
   "outputs": [
    {
     "name": "stdout",
     "output_type": "stream",
     "text": [
      "Vowel count =  6\n",
      "Consonant count =  10\n",
      "Enter a sentence: MY NAME IS SHIVANGI\n"
     ]
    }
   ],
   "source": [
    "def count(ln):\n",
    "    countv=0\n",
    "    counts=0\n",
    "    countc=0\n",
    "    for str in ln:\n",
    "        if str==\"a\" or str==\"e\" or str==\"i\" or str==\"o\" or str==\"u\":\n",
    "            countv+=1\n",
    "        elif str==\" \":\n",
    "            counts+=1\n",
    "        else:\n",
    "            countc+=1\n",
    "print(\"Vowel count = \",countv)\n",
    "print(\"Consonant count = \",countc)\n",
    "\n",
    "line=input(\"Enter a sentence: \")\n",
    "ln=line.lower()\n",
    "##print(ln)\n",
    "count(ln)\n",
    "    \n",
    "\n",
    "\n"
   ]
  },
  {
   "cell_type": "markdown",
   "id": "feb431c1",
   "metadata": {},
   "source": [
    "## Question 3"
   ]
  },
  {
   "cell_type": "code",
   "execution_count": 35,
   "id": "8882b898",
   "metadata": {},
   "outputs": [
    {
     "name": "stdout",
     "output_type": "stream",
     "text": [
      "15\n"
     ]
    }
   ],
   "source": [
    "import numpy as np\n",
    "a=np.array([[1,2,3],[4,5,6],[7,8,9]])\n",
    "a=a.T\n",
    "sm=a.diagonal().sum()\n",
    "print(sm)\n"
   ]
  },
  {
   "cell_type": "markdown",
   "id": "72881f4e",
   "metadata": {},
   "source": [
    "## Question 4"
   ]
  },
  {
   "cell_type": "code",
   "execution_count": 29,
   "id": "1c6a0508",
   "metadata": {},
   "outputs": [
    {
     "name": "stdout",
     "output_type": "stream",
     "text": [
      "Enter the value of n : 5\n",
      "6.783333333333333\n"
     ]
    }
   ],
   "source": [
    "def cal(n):\n",
    "    sum=0\n",
    "    for i in range(3,n+1):\n",
    "        t1=(i-1)*(i-1)\n",
    "        t2=t1/i;\n",
    "        sum+=t2 \n",
    "    return sum\n",
    "    \n",
    "\n",
    "n=int(input(\"Enter the value of n : \"))\n",
    "sm=cal(n)\n",
    "print(sm)"
   ]
  },
  {
   "cell_type": "markdown",
   "id": "1a57875f",
   "metadata": {},
   "source": [
    " ## Question 5"
   ]
  },
  {
   "cell_type": "code",
   "execution_count": 33,
   "id": "0c6057c9",
   "metadata": {},
   "outputs": [
    {
     "name": "stdout",
     "output_type": "stream",
     "text": [
      "Enter a string : abcba\n",
      "The given string is palindrome\n"
     ]
    }
   ],
   "source": [
    "def palindrome(str,start,end):\n",
    "    if start==end:\n",
    "        return 1\n",
    "    if str[start] != str[end]:\n",
    "        return 0\n",
    "    if start < end + 1:\n",
    "        return palindrome(str, start + 1, end - 1);\n",
    " \n",
    "    \n",
    "str=input(\"Enter a string : \")\n",
    "n=len(str)\n",
    "if n==0:\n",
    "    print(\"The given string is palindrome\")\n",
    "else:\n",
    "    ans=palindrome(str,0,n-1)\n",
    "    if ans==1:\n",
    "        print(\"The given string is palindrome\")\n",
    "    else:\n",
    "        print(\"The given string is NOT a palindrome\")\n",
    "    \n",
    "    \n",
    "\n",
    "        "
   ]
  }
 ],
 "metadata": {
  "kernelspec": {
   "display_name": "Python 3",
   "language": "python",
   "name": "python3"
  },
  "language_info": {
   "codemirror_mode": {
    "name": "ipython",
    "version": 3
   },
   "file_extension": ".py",
   "mimetype": "text/x-python",
   "name": "python",
   "nbconvert_exporter": "python",
   "pygments_lexer": "ipython3",
   "version": "3.8.8"
  }
 },
 "nbformat": 4,
 "nbformat_minor": 5
}
